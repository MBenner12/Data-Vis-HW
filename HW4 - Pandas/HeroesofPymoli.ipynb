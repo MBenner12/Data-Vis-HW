{
 "cells": [
  {
   "cell_type": "code",
   "execution_count": 97,
   "metadata": {
    "collapsed": true
   },
   "outputs": [],
   "source": [
    "import pandas as pd\n",
    "import numpy as np"
   ]
  },
  {
   "cell_type": "code",
   "execution_count": 98,
   "metadata": {},
   "outputs": [
    {
     "data": {
      "text/html": [
       "<div>\n",
       "<style>\n",
       "    .dataframe thead tr:only-child th {\n",
       "        text-align: right;\n",
       "    }\n",
       "\n",
       "    .dataframe thead th {\n",
       "        text-align: left;\n",
       "    }\n",
       "\n",
       "    .dataframe tbody tr th {\n",
       "        vertical-align: top;\n",
       "    }\n",
       "</style>\n",
       "<table border=\"1\" class=\"dataframe\">\n",
       "  <thead>\n",
       "    <tr style=\"text-align: right;\">\n",
       "      <th></th>\n",
       "      <th>Age</th>\n",
       "      <th>Gender</th>\n",
       "      <th>Item ID</th>\n",
       "      <th>Item Name</th>\n",
       "      <th>Price</th>\n",
       "      <th>SN</th>\n",
       "    </tr>\n",
       "  </thead>\n",
       "  <tbody>\n",
       "    <tr>\n",
       "      <th>0</th>\n",
       "      <td>38</td>\n",
       "      <td>Male</td>\n",
       "      <td>165</td>\n",
       "      <td>Bone Crushing Silver Skewer</td>\n",
       "      <td>3.37</td>\n",
       "      <td>Aelalis34</td>\n",
       "    </tr>\n",
       "    <tr>\n",
       "      <th>1</th>\n",
       "      <td>21</td>\n",
       "      <td>Male</td>\n",
       "      <td>119</td>\n",
       "      <td>Stormbringer, Dark Blade of Ending Misery</td>\n",
       "      <td>2.32</td>\n",
       "      <td>Eolo46</td>\n",
       "    </tr>\n",
       "    <tr>\n",
       "      <th>2</th>\n",
       "      <td>34</td>\n",
       "      <td>Male</td>\n",
       "      <td>174</td>\n",
       "      <td>Primitive Blade</td>\n",
       "      <td>2.46</td>\n",
       "      <td>Assastnya25</td>\n",
       "    </tr>\n",
       "    <tr>\n",
       "      <th>3</th>\n",
       "      <td>21</td>\n",
       "      <td>Male</td>\n",
       "      <td>92</td>\n",
       "      <td>Final Critic</td>\n",
       "      <td>1.36</td>\n",
       "      <td>Pheusrical25</td>\n",
       "    </tr>\n",
       "    <tr>\n",
       "      <th>4</th>\n",
       "      <td>23</td>\n",
       "      <td>Male</td>\n",
       "      <td>63</td>\n",
       "      <td>Stormfury Mace</td>\n",
       "      <td>1.27</td>\n",
       "      <td>Aela59</td>\n",
       "    </tr>\n",
       "  </tbody>\n",
       "</table>\n",
       "</div>"
      ],
      "text/plain": [
       "   Age Gender  Item ID                                  Item Name  Price  \\\n",
       "0   38   Male      165                Bone Crushing Silver Skewer   3.37   \n",
       "1   21   Male      119  Stormbringer, Dark Blade of Ending Misery   2.32   \n",
       "2   34   Male      174                            Primitive Blade   2.46   \n",
       "3   21   Male       92                               Final Critic   1.36   \n",
       "4   23   Male       63                             Stormfury Mace   1.27   \n",
       "\n",
       "             SN  \n",
       "0     Aelalis34  \n",
       "1        Eolo46  \n",
       "2   Assastnya25  \n",
       "3  Pheusrical25  \n",
       "4        Aela59  "
      ]
     },
     "execution_count": 98,
     "metadata": {},
     "output_type": "execute_result"
    }
   ],
   "source": [
    "purchasedatabase_df = pd.read_json(\"purchase_data.json\")\n",
    "purchasedatabase_df.head()"
   ]
  },
  {
   "cell_type": "code",
   "execution_count": 99,
   "metadata": {},
   "outputs": [
    {
     "data": {
      "text/plain": [
       "Index(['Age', 'Gender', 'Item ID', 'Item Name', 'Price', 'SN'], dtype='object')"
      ]
     },
     "execution_count": 99,
     "metadata": {},
     "output_type": "execute_result"
    }
   ],
   "source": [
    "purchasedatabase_df.columns"
   ]
  },
  {
   "cell_type": "code",
   "execution_count": 100,
   "metadata": {},
   "outputs": [
    {
     "data": {
      "text/html": [
       "<div>\n",
       "<style>\n",
       "    .dataframe thead tr:only-child th {\n",
       "        text-align: right;\n",
       "    }\n",
       "\n",
       "    .dataframe thead th {\n",
       "        text-align: left;\n",
       "    }\n",
       "\n",
       "    .dataframe tbody tr th {\n",
       "        vertical-align: top;\n",
       "    }\n",
       "</style>\n",
       "<table border=\"1\" class=\"dataframe\">\n",
       "  <thead>\n",
       "    <tr style=\"text-align: right;\">\n",
       "      <th></th>\n",
       "      <th>Total Players</th>\n",
       "    </tr>\n",
       "  </thead>\n",
       "  <tbody>\n",
       "    <tr>\n",
       "      <th>0</th>\n",
       "      <td>573</td>\n",
       "    </tr>\n",
       "  </tbody>\n",
       "</table>\n",
       "</div>"
      ],
      "text/plain": [
       "   Total Players\n",
       "0            573"
      ]
     },
     "execution_count": 100,
     "metadata": {},
     "output_type": "execute_result"
    }
   ],
   "source": [
    "#Player Count\n",
    "playernames_SN = purchasedatabase_df['SN'].nunique()\n",
    "totalplayercount = pd.DataFrame({\"Total Players\" : [playernames_SN]}, columns = [\"Total Players\"])\n",
    "totalplayercount"
   ]
  },
  {
   "cell_type": "code",
   "execution_count": 102,
   "metadata": {},
   "outputs": [
    {
     "data": {
      "text/html": [
       "<style  type=\"text/css\" >\n",
       "</style>  \n",
       "<table id=\"T_36a0c4f4_1900_11e8_b9e1_8c85908350c0\" > \n",
       "<thead>    <tr> \n",
       "        <th class=\"blank level0\" ></th> \n",
       "        <th class=\"col_heading level0 col0\" >Number of Unique Items</th> \n",
       "        <th class=\"col_heading level0 col1\" >Average Purchase Price</th> \n",
       "        <th class=\"col_heading level0 col2\" >Number of Purchases</th> \n",
       "        <th class=\"col_heading level0 col3\" >Total Revenue</th> \n",
       "    </tr></thead> \n",
       "<tbody>    <tr> \n",
       "        <th id=\"T_36a0c4f4_1900_11e8_b9e1_8c85908350c0level0_row0\" class=\"row_heading level0 row0\" >0</th> \n",
       "        <td id=\"T_36a0c4f4_1900_11e8_b9e1_8c85908350c0row0_col0\" class=\"data row0 col0\" >183</td> \n",
       "        <td id=\"T_36a0c4f4_1900_11e8_b9e1_8c85908350c0row0_col1\" class=\"data row0 col1\" >$2.93</td> \n",
       "        <td id=\"T_36a0c4f4_1900_11e8_b9e1_8c85908350c0row0_col2\" class=\"data row0 col2\" >780</td> \n",
       "        <td id=\"T_36a0c4f4_1900_11e8_b9e1_8c85908350c0row0_col3\" class=\"data row0 col3\" >$2286.33</td> \n",
       "    </tr></tbody> \n",
       "</table> "
      ],
      "text/plain": [
       "<pandas.io.formats.style.Styler at 0x107da25c0>"
      ]
     },
     "execution_count": 102,
     "metadata": {},
     "output_type": "execute_result"
    }
   ],
   "source": [
    "#Purchasing Analysis - Unique Items, Avg Purchase Price, Total Number of Purchases, Total Revenue\n",
    "uniqueitems = purchasedatabase_df['Item ID'].nunique()\n",
    "avgprice = (purchasedatabase_df['Price'].sum()/purchasedatabase_df['Price'].count()).round(2)\n",
    "totalpurchases = purchasedatabase_df['Price'].count()\n",
    "totalrevenue = purchasedatabase_df[\"Price\"].sum()\n",
    "\n",
    "total_analysis_df = pd.DataFrame({\"Number of Unique Items\": [uniqueitems], \n",
    "                              \"Average Purchase Price\": [avgprice],\n",
    "                             \"Number of Purchases\": [totalpurchases],\n",
    "                             \"Total Revenue\": [totalrevenue]}, columns= [\"Number of Unique Items\", \"Average Purchase Price\",\n",
    "                            \"Number of Purchases\", \"Total Revenue\"])\n",
    "\n",
    "total_analysis_df.style.format({\"Average Purchase Price\": \"${:.2f}\", \"Total Revenue\": \"${:.2f}\"})"
   ]
  },
  {
   "cell_type": "code",
   "execution_count": 105,
   "metadata": {},
   "outputs": [
    {
     "data": {
      "text/html": [
       "<style  type=\"text/css\" >\n",
       "</style>  \n",
       "<table id=\"T_595b2fb4_1905_11e8_b6a3_8c85908350c0\" > \n",
       "<thead>    <tr> \n",
       "        <th class=\"blank level0\" ></th> \n",
       "        <th class=\"col_heading level0 col0\" >Percentage of Players</th> \n",
       "        <th class=\"col_heading level0 col1\" >Total Count</th> \n",
       "    </tr>    <tr> \n",
       "        <th class=\"index_name level0\" >Gender</th> \n",
       "        <th class=\"blank\" ></th> \n",
       "        <th class=\"blank\" ></th> \n",
       "    </tr></thead> \n",
       "<tbody>    <tr> \n",
       "        <th id=\"T_595b2fb4_1905_11e8_b6a3_8c85908350c0level0_row0\" class=\"row_heading level0 row0\" >Male</th> \n",
       "        <td id=\"T_595b2fb4_1905_11e8_b6a3_8c85908350c0row0_col0\" class=\"data row0 col0\" >81.15%</td> \n",
       "        <td id=\"T_595b2fb4_1905_11e8_b6a3_8c85908350c0row0_col1\" class=\"data row0 col1\" >465</td> \n",
       "    </tr>    <tr> \n",
       "        <th id=\"T_595b2fb4_1905_11e8_b6a3_8c85908350c0level0_row1\" class=\"row_heading level0 row1\" >Female</th> \n",
       "        <td id=\"T_595b2fb4_1905_11e8_b6a3_8c85908350c0row1_col0\" class=\"data row1 col0\" >17.45%</td> \n",
       "        <td id=\"T_595b2fb4_1905_11e8_b6a3_8c85908350c0row1_col1\" class=\"data row1 col1\" >100</td> \n",
       "    </tr>    <tr> \n",
       "        <th id=\"T_595b2fb4_1905_11e8_b6a3_8c85908350c0level0_row2\" class=\"row_heading level0 row2\" >Other / Non-Disclosed</th> \n",
       "        <td id=\"T_595b2fb4_1905_11e8_b6a3_8c85908350c0row2_col0\" class=\"data row2 col0\" >1.40%</td> \n",
       "        <td id=\"T_595b2fb4_1905_11e8_b6a3_8c85908350c0row2_col1\" class=\"data row2 col1\" >8</td> \n",
       "    </tr></tbody> \n",
       "</table> "
      ],
      "text/plain": [
       "<pandas.io.formats.style.Styler at 0x108824710>"
      ]
     },
     "execution_count": 105,
     "metadata": {},
     "output_type": "execute_result"
    }
   ],
   "source": [
    "#Gender Demographics - % Male, % female, % of other\n",
    "countfull = purchasedatabase_df[\"SN\"].nunique()\n",
    "countmale = purchasedatabase_df[purchasedatabase_df[\"Gender\"] == \"Male\"][\"SN\"].nunique()\n",
    "countfemale = purchasedatabase_df[purchasedatabase_df[\"Gender\"] == \"Female\"][\"SN\"].nunique()\n",
    "countother = countfull - countmale - countfemale\n",
    "malepercent = ((countmale/countfull)*100)\n",
    "femalepercent = ((countfemale/countfull)*100)\n",
    "otherpercent = ((countother/countfull)*100)\n",
    "\n",
    "gender_df = pd.DataFrame({\"Gender\": [\"Male\", \"Female\", \"Other / Non-Disclosed\"], \"Percentage of Players\": [malepercent, femalepercent, otherpercent],\n",
    "                                        \"Total Count\": [countmale, countfemale, countother]}, columns = \n",
    "                                        [\"Gender\", \"Percentage of Players\", \"Total Count\"])\n",
    "                                        \n",
    "gender_final = gender_df.set_index(\"Gender\")\n",
    "gender_final.style.format({\"Percentage of Players\": \"{:.2f}%\"})"
   ]
  },
  {
   "cell_type": "code",
   "execution_count": 107,
   "metadata": {},
   "outputs": [
    {
     "data": {
      "text/html": [
       "<style  type=\"text/css\" >\n",
       "</style>  \n",
       "<table id=\"T_2b4357e8_1906_11e8_abb5_8c85908350c0\" > \n",
       "<thead>    <tr> \n",
       "        <th class=\"blank level0\" ></th> \n",
       "        <th class=\"col_heading level0 col0\" >Purchase Count</th> \n",
       "        <th class=\"col_heading level0 col1\" >Average Purchase Price</th> \n",
       "        <th class=\"col_heading level0 col2\" >Total Purchase Value</th> \n",
       "        <th class=\"col_heading level0 col3\" >Normalized Totals</th> \n",
       "    </tr>    <tr> \n",
       "        <th class=\"index_name level0\" >Gender</th> \n",
       "        <th class=\"blank\" ></th> \n",
       "        <th class=\"blank\" ></th> \n",
       "        <th class=\"blank\" ></th> \n",
       "        <th class=\"blank\" ></th> \n",
       "    </tr></thead> \n",
       "<tbody>    <tr> \n",
       "        <th id=\"T_2b4357e8_1906_11e8_abb5_8c85908350c0level0_row0\" class=\"row_heading level0 row0\" >Male</th> \n",
       "        <td id=\"T_2b4357e8_1906_11e8_abb5_8c85908350c0row0_col0\" class=\"data row0 col0\" >633</td> \n",
       "        <td id=\"T_2b4357e8_1906_11e8_abb5_8c85908350c0row0_col1\" class=\"data row0 col1\" >$2.95</td> \n",
       "        <td id=\"T_2b4357e8_1906_11e8_abb5_8c85908350c0row0_col2\" class=\"data row0 col2\" >$1867.68</td> \n",
       "        <td id=\"T_2b4357e8_1906_11e8_abb5_8c85908350c0row0_col3\" class=\"data row0 col3\" >$4.02</td> \n",
       "    </tr>    <tr> \n",
       "        <th id=\"T_2b4357e8_1906_11e8_abb5_8c85908350c0level0_row1\" class=\"row_heading level0 row1\" >Female</th> \n",
       "        <td id=\"T_2b4357e8_1906_11e8_abb5_8c85908350c0row1_col0\" class=\"data row1 col0\" >136</td> \n",
       "        <td id=\"T_2b4357e8_1906_11e8_abb5_8c85908350c0row1_col1\" class=\"data row1 col1\" >$2.82</td> \n",
       "        <td id=\"T_2b4357e8_1906_11e8_abb5_8c85908350c0row1_col2\" class=\"data row1 col2\" >$382.91</td> \n",
       "        <td id=\"T_2b4357e8_1906_11e8_abb5_8c85908350c0row1_col3\" class=\"data row1 col3\" >$3.83</td> \n",
       "    </tr>    <tr> \n",
       "        <th id=\"T_2b4357e8_1906_11e8_abb5_8c85908350c0level0_row2\" class=\"row_heading level0 row2\" >Other / Non-Disclosed</th> \n",
       "        <td id=\"T_2b4357e8_1906_11e8_abb5_8c85908350c0row2_col0\" class=\"data row2 col0\" >11</td> \n",
       "        <td id=\"T_2b4357e8_1906_11e8_abb5_8c85908350c0row2_col1\" class=\"data row2 col1\" >$3.25</td> \n",
       "        <td id=\"T_2b4357e8_1906_11e8_abb5_8c85908350c0row2_col2\" class=\"data row2 col2\" >$35.74</td> \n",
       "        <td id=\"T_2b4357e8_1906_11e8_abb5_8c85908350c0row2_col3\" class=\"data row2 col3\" >$4.47</td> \n",
       "    </tr></tbody> \n",
       "</table> "
      ],
      "text/plain": [
       "<pandas.io.formats.style.Styler at 0x108882cc0>"
      ]
     },
     "execution_count": 107,
     "metadata": {},
     "output_type": "execute_result"
    }
   ],
   "source": [
    "#Purchase by Gender\n",
    "malepurch = purchasedatabase_df[purchasedatabase_df[\"Gender\"] == \"Male\"][\"Price\"].count()\n",
    "femalepurch = purchasedatabase_df[purchasedatabase_df[\"Gender\"] == \"Female\"][\"Price\"].count()\n",
    "otherpurch = totalpurchases - malepurch - femalepurch\n",
    "mpriceavg = purchasedatabase_df[purchasedatabase_df[\"Gender\"] == \"Male\"]['Price'].mean()\n",
    "fpriceavg = purchasedatabase_df[purchasedatabase_df[\"Gender\"] == \"Female\"]['Price'].mean()\n",
    "opriceavg = purchasedatabase_df[purchasedatabase_df[\"Gender\"] == \"Other / Non-Disclosed\"]['Price'].mean()\n",
    "mpricetot = purchasedatabase_df[purchasedatabase_df[\"Gender\"] == \"Male\"]['Price'].sum()\n",
    "fpricetot = purchasedatabase_df[purchasedatabase_df[\"Gender\"] == \"Female\"]['Price'].sum()\n",
    "opricetot = purchasedatabase_df[purchasedatabase_df[\"Gender\"] == \"Other / Non-Disclosed\"]['Price'].sum()\n",
    "mnorm = mpricetot/countmale\n",
    "fnorm = fpricetot/countfemale\n",
    "onorm = opricetot/countother\n",
    "\n",
    "gender_purch_df = pd.DataFrame({\"Gender\": [\"Male\", \"Female\", \"Other / Non-Disclosed\"], \"Purchase Count\": [malepurch, femalepurch, otherpurch],\n",
    "                                        \"Average Purchase Price\": [mpriceavg, fpriceavg, opriceavg], \"Total Purchase Value\": [mpricetot, fpricetot, opricetot],\n",
    "                                \"Normalized Totals\": [mnorm, fnorm, onorm]}, columns = \n",
    "                                        [\"Gender\", \"Purchase Count\", \"Average Purchase Price\", \"Total Purchase Value\", \"Normalized Totals\"])\n",
    "                                        \n",
    "gender_purch_final = gender_purch_df.set_index(\"Gender\")\n",
    "gender_purch_final.style.format({\"Average Purchase Price\": \"${:.2f}\", \"Total Purchase Value\": \"${:.2f}\", \"Normalized Totals\": \"${:.2f}\"})"
   ]
  },
  {
   "cell_type": "code",
   "execution_count": 108,
   "metadata": {},
   "outputs": [
    {
     "data": {
      "text/html": [
       "<style  type=\"text/css\" >\n",
       "</style>  \n",
       "<table id=\"T_fd013a0c_1906_11e8_8f0c_8c85908350c0\" > \n",
       "<thead>    <tr> \n",
       "        <th class=\"blank level0\" ></th> \n",
       "        <th class=\"col_heading level0 col0\" >Percentage of Players</th> \n",
       "        <th class=\"col_heading level0 col1\" >Total Count</th> \n",
       "    </tr>    <tr> \n",
       "        <th class=\"index_name level0\" >Age</th> \n",
       "        <th class=\"blank\" ></th> \n",
       "        <th class=\"blank\" ></th> \n",
       "    </tr></thead> \n",
       "<tbody>    <tr> \n",
       "        <th id=\"T_fd013a0c_1906_11e8_8f0c_8c85908350c0level0_row0\" class=\"row_heading level0 row0\" ><10</th> \n",
       "        <td id=\"T_fd013a0c_1906_11e8_8f0c_8c85908350c0row0_col0\" class=\"data row0 col0\" >3.32%</td> \n",
       "        <td id=\"T_fd013a0c_1906_11e8_8f0c_8c85908350c0row0_col1\" class=\"data row0 col1\" >19</td> \n",
       "    </tr>    <tr> \n",
       "        <th id=\"T_fd013a0c_1906_11e8_8f0c_8c85908350c0level0_row1\" class=\"row_heading level0 row1\" >10-14</th> \n",
       "        <td id=\"T_fd013a0c_1906_11e8_8f0c_8c85908350c0row1_col0\" class=\"data row1 col0\" >4.01%</td> \n",
       "        <td id=\"T_fd013a0c_1906_11e8_8f0c_8c85908350c0row1_col1\" class=\"data row1 col1\" >23</td> \n",
       "    </tr>    <tr> \n",
       "        <th id=\"T_fd013a0c_1906_11e8_8f0c_8c85908350c0level0_row2\" class=\"row_heading level0 row2\" >15-19</th> \n",
       "        <td id=\"T_fd013a0c_1906_11e8_8f0c_8c85908350c0row2_col0\" class=\"data row2 col0\" >17.45%</td> \n",
       "        <td id=\"T_fd013a0c_1906_11e8_8f0c_8c85908350c0row2_col1\" class=\"data row2 col1\" >100</td> \n",
       "    </tr>    <tr> \n",
       "        <th id=\"T_fd013a0c_1906_11e8_8f0c_8c85908350c0level0_row3\" class=\"row_heading level0 row3\" >20-24</th> \n",
       "        <td id=\"T_fd013a0c_1906_11e8_8f0c_8c85908350c0row3_col0\" class=\"data row3 col0\" >45.20%</td> \n",
       "        <td id=\"T_fd013a0c_1906_11e8_8f0c_8c85908350c0row3_col1\" class=\"data row3 col1\" >259</td> \n",
       "    </tr>    <tr> \n",
       "        <th id=\"T_fd013a0c_1906_11e8_8f0c_8c85908350c0level0_row4\" class=\"row_heading level0 row4\" >25-29</th> \n",
       "        <td id=\"T_fd013a0c_1906_11e8_8f0c_8c85908350c0row4_col0\" class=\"data row4 col0\" >15.18%</td> \n",
       "        <td id=\"T_fd013a0c_1906_11e8_8f0c_8c85908350c0row4_col1\" class=\"data row4 col1\" >87</td> \n",
       "    </tr>    <tr> \n",
       "        <th id=\"T_fd013a0c_1906_11e8_8f0c_8c85908350c0level0_row5\" class=\"row_heading level0 row5\" >30-34</th> \n",
       "        <td id=\"T_fd013a0c_1906_11e8_8f0c_8c85908350c0row5_col0\" class=\"data row5 col0\" >8.20%</td> \n",
       "        <td id=\"T_fd013a0c_1906_11e8_8f0c_8c85908350c0row5_col1\" class=\"data row5 col1\" >47</td> \n",
       "    </tr>    <tr> \n",
       "        <th id=\"T_fd013a0c_1906_11e8_8f0c_8c85908350c0level0_row6\" class=\"row_heading level0 row6\" >35-39</th> \n",
       "        <td id=\"T_fd013a0c_1906_11e8_8f0c_8c85908350c0row6_col0\" class=\"data row6 col0\" >4.71%</td> \n",
       "        <td id=\"T_fd013a0c_1906_11e8_8f0c_8c85908350c0row6_col1\" class=\"data row6 col1\" >27</td> \n",
       "    </tr>    <tr> \n",
       "        <th id=\"T_fd013a0c_1906_11e8_8f0c_8c85908350c0level0_row7\" class=\"row_heading level0 row7\" >40-44</th> \n",
       "        <td id=\"T_fd013a0c_1906_11e8_8f0c_8c85908350c0row7_col0\" class=\"data row7 col0\" >1.75%</td> \n",
       "        <td id=\"T_fd013a0c_1906_11e8_8f0c_8c85908350c0row7_col1\" class=\"data row7 col1\" >10</td> \n",
       "    </tr>    <tr> \n",
       "        <th id=\"T_fd013a0c_1906_11e8_8f0c_8c85908350c0level0_row8\" class=\"row_heading level0 row8\" >45-49</th> \n",
       "        <td id=\"T_fd013a0c_1906_11e8_8f0c_8c85908350c0row8_col0\" class=\"data row8 col0\" >0.17%</td> \n",
       "        <td id=\"T_fd013a0c_1906_11e8_8f0c_8c85908350c0row8_col1\" class=\"data row8 col1\" >1</td> \n",
       "    </tr></tbody> \n",
       "</table> "
      ],
      "text/plain": [
       "<pandas.io.formats.style.Styler at 0x10887ba90>"
      ]
     },
     "execution_count": 108,
     "metadata": {},
     "output_type": "execute_result"
    }
   ],
   "source": [
    "#Age Demographics\n",
    "tenyears = purchasedatabase_df[purchasedatabase_df[\"Age\"] <10]\n",
    "loteens = purchasedatabase_df[(purchasedatabase_df[\"Age\"] >=10) & (purchasedatabase_df[\"Age\"] <=14)]\n",
    "hiteens = purchasedatabase_df[(purchasedatabase_df[\"Age\"] >=15) & (purchasedatabase_df[\"Age\"] <=19)]\n",
    "lotwent = purchasedatabase_df[(purchasedatabase_df[\"Age\"] >=20) & (purchasedatabase_df[\"Age\"] <=24)]\n",
    "hitwent = purchasedatabase_df[(purchasedatabase_df[\"Age\"] >=25) & (purchasedatabase_df[\"Age\"] <=29)]\n",
    "lothirt = purchasedatabase_df[(purchasedatabase_df[\"Age\"] >=30) & (purchasedatabase_df[\"Age\"] <=34)]\n",
    "hithirt = purchasedatabase_df[(purchasedatabase_df[\"Age\"] >=35) & (purchasedatabase_df[\"Age\"] <=39)]\n",
    "loforty = purchasedatabase_df[(purchasedatabase_df[\"Age\"] >=40) & (purchasedatabase_df[\"Age\"] <=44)]\n",
    "hiforty = purchasedatabase_df[(purchasedatabase_df[\"Age\"] >=45) & (purchasedatabase_df[\"Age\"] <=49)]\n",
    "\n",
    "age_demo_df = pd.DataFrame({\"Age\": [\"<10\", \"10-14\", \"15-19\", \"20-24\", \"25-29\", \"30-34\", \"35-39\", \"40-44\", \"45-49\"],\n",
    "                        \"Percentage of Players\": [(tenyears[\"SN\"].nunique()/countfull)*100, (loteens[\"SN\"].nunique()/countfull)*100, (hiteens[\"SN\"].nunique()/countfull)*100, (lotwent[\"SN\"].nunique()/countfull)*100, (hitwent[\"SN\"].nunique()/countfull)*100, (lothirt[\"SN\"].nunique()/countfull)*100, (hithirt[\"SN\"].nunique()/countfull)*100, (loforty[\"SN\"].nunique()/countfull)*100, (hiforty[\"SN\"].nunique()/countfull)*100],\n",
    "                        \"Total Count\": [tenyears[\"SN\"].nunique(), loteens[\"SN\"].nunique(), hiteens[\"SN\"].nunique(), lotwent[\"SN\"].nunique(), hitwent[\"SN\"].nunique(), lothirt[\"SN\"].nunique(), hithirt[\"SN\"].nunique(), loforty[\"SN\"].nunique(), hiforty[\"SN\"].nunique()]\n",
    "                       })\n",
    "\n",
    "age_demo_final = age_demo_df.set_index(\"Age\")\n",
    "age_demo_final.style.format({\"Percentage of Players\": \"{:.2f}%\"})"
   ]
  },
  {
   "cell_type": "code",
   "execution_count": 111,
   "metadata": {},
   "outputs": [
    {
     "data": {
      "text/html": [
       "<style  type=\"text/css\" >\n",
       "</style>  \n",
       "<table id=\"T_a2b01c94_1908_11e8_a803_8c85908350c0\" > \n",
       "<thead>    <tr> \n",
       "        <th class=\"blank level0\" ></th> \n",
       "        <th class=\"col_heading level0 col0\" >Purchase Count</th> \n",
       "        <th class=\"col_heading level0 col1\" >Average Purchase Price</th> \n",
       "        <th class=\"col_heading level0 col2\" >Total Purchase Value</th> \n",
       "    </tr>    <tr> \n",
       "        <th class=\"index_name level0\" >SN</th> \n",
       "        <th class=\"blank\" ></th> \n",
       "        <th class=\"blank\" ></th> \n",
       "        <th class=\"blank\" ></th> \n",
       "    </tr></thead> \n",
       "<tbody>    <tr> \n",
       "        <th id=\"T_a2b01c94_1908_11e8_a803_8c85908350c0level0_row0\" class=\"row_heading level0 row0\" >Undirrala66</th> \n",
       "        <td id=\"T_a2b01c94_1908_11e8_a803_8c85908350c0row0_col0\" class=\"data row0 col0\" >5</td> \n",
       "        <td id=\"T_a2b01c94_1908_11e8_a803_8c85908350c0row0_col1\" class=\"data row0 col1\" >$3.41</td> \n",
       "        <td id=\"T_a2b01c94_1908_11e8_a803_8c85908350c0row0_col2\" class=\"data row0 col2\" >$17.06</td> \n",
       "    </tr>    <tr> \n",
       "        <th id=\"T_a2b01c94_1908_11e8_a803_8c85908350c0level0_row1\" class=\"row_heading level0 row1\" >Saedue76</th> \n",
       "        <td id=\"T_a2b01c94_1908_11e8_a803_8c85908350c0row1_col0\" class=\"data row1 col0\" >4</td> \n",
       "        <td id=\"T_a2b01c94_1908_11e8_a803_8c85908350c0row1_col1\" class=\"data row1 col1\" >$3.39</td> \n",
       "        <td id=\"T_a2b01c94_1908_11e8_a803_8c85908350c0row1_col2\" class=\"data row1 col2\" >$13.56</td> \n",
       "    </tr>    <tr> \n",
       "        <th id=\"T_a2b01c94_1908_11e8_a803_8c85908350c0level0_row2\" class=\"row_heading level0 row2\" >Mindimnya67</th> \n",
       "        <td id=\"T_a2b01c94_1908_11e8_a803_8c85908350c0row2_col0\" class=\"data row2 col0\" >4</td> \n",
       "        <td id=\"T_a2b01c94_1908_11e8_a803_8c85908350c0row2_col1\" class=\"data row2 col1\" >$3.18</td> \n",
       "        <td id=\"T_a2b01c94_1908_11e8_a803_8c85908350c0row2_col2\" class=\"data row2 col2\" >$12.74</td> \n",
       "    </tr>    <tr> \n",
       "        <th id=\"T_a2b01c94_1908_11e8_a803_8c85908350c0level0_row3\" class=\"row_heading level0 row3\" >Haellysu29</th> \n",
       "        <td id=\"T_a2b01c94_1908_11e8_a803_8c85908350c0row3_col0\" class=\"data row3 col0\" >3</td> \n",
       "        <td id=\"T_a2b01c94_1908_11e8_a803_8c85908350c0row3_col1\" class=\"data row3 col1\" >$4.24</td> \n",
       "        <td id=\"T_a2b01c94_1908_11e8_a803_8c85908350c0row3_col2\" class=\"data row3 col2\" >$12.73</td> \n",
       "    </tr>    <tr> \n",
       "        <th id=\"T_a2b01c94_1908_11e8_a803_8c85908350c0level0_row4\" class=\"row_heading level0 row4\" >Eoda93</th> \n",
       "        <td id=\"T_a2b01c94_1908_11e8_a803_8c85908350c0row4_col0\" class=\"data row4 col0\" >3</td> \n",
       "        <td id=\"T_a2b01c94_1908_11e8_a803_8c85908350c0row4_col1\" class=\"data row4 col1\" >$3.86</td> \n",
       "        <td id=\"T_a2b01c94_1908_11e8_a803_8c85908350c0row4_col2\" class=\"data row4 col2\" >$11.58</td> \n",
       "    </tr></tbody> \n",
       "</table> "
      ],
      "text/plain": [
       "<pandas.io.formats.style.Styler at 0x107d99128>"
      ]
     },
     "execution_count": 111,
     "metadata": {},
     "output_type": "execute_result"
    }
   ],
   "source": [
    "#Top Spenders \n",
    "sn_total_purchase = purchasedatabase_df.groupby('SN')['Price'].sum().to_frame()\n",
    "sn_purchase_count = purchasedatabase_df.groupby('SN')['Price'].count().to_frame()\n",
    "sn_purchase_avg = purchasedatabase_df.groupby('SN')['Price'].mean().to_frame()\n",
    "\n",
    "sn_total_purchase.columns=[\"Total Purchase Value\"]\n",
    "join_1 = sn_total_purchase.join(sn_purchase_count, how=\"left\")\n",
    "join_1.columns=[\"Total Purchase Value\", \"Purchase Count\"]\n",
    "\n",
    "join_2 = join_1.join(sn_purchase_avg, how=\"inner\")\n",
    "join_2.columns=[\"Total Purchase Value\", \"Purchase Count\", \"Average Purchase Price\"]\n",
    "\n",
    "top_spenders_df = join_2[[\"Purchase Count\", \"Average Purchase Price\", \"Total Purchase Value\"]]\n",
    "top_spenders_final = top_spenders_df.sort_values('Total Purchase Value', ascending=False).head()\n",
    "top_spenders_final.style.format({\"Average Purchase Price\": \"${:.2f}\", \"Total Purchase Value\": \"${:.2f}\"})"
   ]
  },
  {
   "cell_type": "code",
   "execution_count": 123,
   "metadata": {},
   "outputs": [
    {
     "data": {
      "text/html": [
       "<style  type=\"text/css\" >\n",
       "</style>  \n",
       "<table id=\"T_ab80a3dc_190a_11e8_a646_8c85908350c0\" > \n",
       "<thead>    <tr> \n",
       "        <th class=\"blank\" ></th> \n",
       "        <th class=\"blank level0\" ></th> \n",
       "        <th class=\"col_heading level0 col0\" >Purchase Count</th> \n",
       "        <th class=\"col_heading level0 col1\" >Item Price</th> \n",
       "        <th class=\"col_heading level0 col2\" >Total Purchase Value</th> \n",
       "    </tr>    <tr> \n",
       "        <th class=\"index_name level0\" >Item Name</th> \n",
       "        <th class=\"index_name level1\" >Item ID</th> \n",
       "        <th class=\"blank\" ></th> \n",
       "        <th class=\"blank\" ></th> \n",
       "        <th class=\"blank\" ></th> \n",
       "    </tr></thead> \n",
       "<tbody>    <tr> \n",
       "        <th id=\"T_ab80a3dc_190a_11e8_a646_8c85908350c0level0_row0\" class=\"row_heading level0 row0\" >Arcane Gem</th> \n",
       "        <th id=\"T_ab80a3dc_190a_11e8_a646_8c85908350c0level1_row0\" class=\"row_heading level1 row0\" >84</th> \n",
       "        <td id=\"T_ab80a3dc_190a_11e8_a646_8c85908350c0row0_col0\" class=\"data row0 col0\" >11</td> \n",
       "        <td id=\"T_ab80a3dc_190a_11e8_a646_8c85908350c0row0_col1\" class=\"data row0 col1\" >$2.23</td> \n",
       "        <td id=\"T_ab80a3dc_190a_11e8_a646_8c85908350c0row0_col2\" class=\"data row0 col2\" >$24.53</td> \n",
       "    </tr>    <tr> \n",
       "        <th id=\"T_ab80a3dc_190a_11e8_a646_8c85908350c0level0_row1\" class=\"row_heading level0 row1\" >Betrayal, Whisper of Grieving Widows</th> \n",
       "        <th id=\"T_ab80a3dc_190a_11e8_a646_8c85908350c0level1_row1\" class=\"row_heading level1 row1\" >39</th> \n",
       "        <td id=\"T_ab80a3dc_190a_11e8_a646_8c85908350c0row1_col0\" class=\"data row1 col0\" >11</td> \n",
       "        <td id=\"T_ab80a3dc_190a_11e8_a646_8c85908350c0row1_col1\" class=\"data row1 col1\" >$2.35</td> \n",
       "        <td id=\"T_ab80a3dc_190a_11e8_a646_8c85908350c0row1_col2\" class=\"data row1 col2\" >$25.85</td> \n",
       "    </tr>    <tr> \n",
       "        <th id=\"T_ab80a3dc_190a_11e8_a646_8c85908350c0level0_row2\" class=\"row_heading level0 row2\" >Trickster</th> \n",
       "        <th id=\"T_ab80a3dc_190a_11e8_a646_8c85908350c0level1_row2\" class=\"row_heading level1 row2\" >31</th> \n",
       "        <td id=\"T_ab80a3dc_190a_11e8_a646_8c85908350c0row2_col0\" class=\"data row2 col0\" >9</td> \n",
       "        <td id=\"T_ab80a3dc_190a_11e8_a646_8c85908350c0row2_col1\" class=\"data row2 col1\" >$2.07</td> \n",
       "        <td id=\"T_ab80a3dc_190a_11e8_a646_8c85908350c0row2_col2\" class=\"data row2 col2\" >$18.63</td> \n",
       "    </tr>    <tr> \n",
       "        <th id=\"T_ab80a3dc_190a_11e8_a646_8c85908350c0level0_row3\" class=\"row_heading level0 row3\" >Woeful Adamantite Claymore</th> \n",
       "        <th id=\"T_ab80a3dc_190a_11e8_a646_8c85908350c0level1_row3\" class=\"row_heading level1 row3\" >175</th> \n",
       "        <td id=\"T_ab80a3dc_190a_11e8_a646_8c85908350c0row3_col0\" class=\"data row3 col0\" >9</td> \n",
       "        <td id=\"T_ab80a3dc_190a_11e8_a646_8c85908350c0row3_col1\" class=\"data row3 col1\" >$1.24</td> \n",
       "        <td id=\"T_ab80a3dc_190a_11e8_a646_8c85908350c0row3_col2\" class=\"data row3 col2\" >$11.16</td> \n",
       "    </tr>    <tr> \n",
       "        <th id=\"T_ab80a3dc_190a_11e8_a646_8c85908350c0level0_row4\" class=\"row_heading level0 row4\" >Serenity</th> \n",
       "        <th id=\"T_ab80a3dc_190a_11e8_a646_8c85908350c0level1_row4\" class=\"row_heading level1 row4\" >13</th> \n",
       "        <td id=\"T_ab80a3dc_190a_11e8_a646_8c85908350c0row4_col0\" class=\"data row4 col0\" >9</td> \n",
       "        <td id=\"T_ab80a3dc_190a_11e8_a646_8c85908350c0row4_col1\" class=\"data row4 col1\" >$1.49</td> \n",
       "        <td id=\"T_ab80a3dc_190a_11e8_a646_8c85908350c0row4_col2\" class=\"data row4 col2\" >$13.41</td> \n",
       "    </tr>    <tr> \n",
       "        <th id=\"T_ab80a3dc_190a_11e8_a646_8c85908350c0level0_row5\" class=\"row_heading level0 row5\" >Retribution Axe</th> \n",
       "        <th id=\"T_ab80a3dc_190a_11e8_a646_8c85908350c0level1_row5\" class=\"row_heading level1 row5\" >34</th> \n",
       "        <td id=\"T_ab80a3dc_190a_11e8_a646_8c85908350c0row5_col0\" class=\"data row5 col0\" >9</td> \n",
       "        <td id=\"T_ab80a3dc_190a_11e8_a646_8c85908350c0row5_col1\" class=\"data row5 col1\" >$4.14</td> \n",
       "        <td id=\"T_ab80a3dc_190a_11e8_a646_8c85908350c0row5_col2\" class=\"data row5 col2\" >$37.26</td> \n",
       "    </tr></tbody> \n",
       "</table> "
      ],
      "text/plain": [
       "<pandas.io.formats.style.Styler at 0x1088ce9e8>"
      ]
     },
     "execution_count": 123,
     "metadata": {},
     "output_type": "execute_result"
    }
   ],
   "source": [
    "#Most Popular Items\n",
    "mergeone = purchasedatabase_df.groupby(\"Item Name\").sum().reset_index()\n",
    "mergetwo = purchasedatabase_df.groupby(\"Item ID\").sum().reset_index()\n",
    "mergethree = purchasedatabase_df.groupby(\"Item Name\").count().reset_index()\n",
    "\n",
    "merge1 = pd.merge(mergeone, mergetwo, on=\"Price\")\n",
    "merge2 = pd.merge(mergethree, merge1, on=\"Item Name\")\n",
    "\n",
    "merge2[\"Gender\"] = (merge2[\"Price_y\"]/merge2[\"Item ID\"]).round(2)\n",
    "\n",
    "merge2_rename = merge2.rename(columns={\"Age\": \"Purchase Count\", \"Gender\": \"Item Price\", \"Item ID\": \"null\", \"Price_y\": \"Total Purchase Value\", \"Item ID_y\": \"Item ID\"})\n",
    "\n",
    "clean_df = merge2_rename[[\"Item ID\", \"Item Name\", \"Purchase Count\", \"Item Price\", \"Total Purchase Value\"]]\n",
    "\n",
    "final_df = clean_df.set_index(['Item Name', 'Item ID'])\n",
    "popular_items_final = final_df.sort_values('Purchase Count', ascending=False).head(6)\n",
    "popular_items_final.style.format({\"Item Price\": \"${:.2f}\", \"Total Purchase Value\": \"${:.2f}\"})"
   ]
  },
  {
   "cell_type": "code",
   "execution_count": 124,
   "metadata": {},
   "outputs": [
    {
     "data": {
      "text/html": [
       "<style  type=\"text/css\" >\n",
       "</style>  \n",
       "<table id=\"T_ac63cedc_190a_11e8_bd40_8c85908350c0\" > \n",
       "<thead>    <tr> \n",
       "        <th class=\"blank\" ></th> \n",
       "        <th class=\"blank level0\" ></th> \n",
       "        <th class=\"col_heading level0 col0\" >Purchase Count</th> \n",
       "        <th class=\"col_heading level0 col1\" >Item Price</th> \n",
       "        <th class=\"col_heading level0 col2\" >Total Purchase Value</th> \n",
       "    </tr>    <tr> \n",
       "        <th class=\"index_name level0\" >Item Name</th> \n",
       "        <th class=\"index_name level1\" >Item ID</th> \n",
       "        <th class=\"blank\" ></th> \n",
       "        <th class=\"blank\" ></th> \n",
       "        <th class=\"blank\" ></th> \n",
       "    </tr></thead> \n",
       "<tbody>    <tr> \n",
       "        <th id=\"T_ac63cedc_190a_11e8_bd40_8c85908350c0level0_row0\" class=\"row_heading level0 row0\" >Retribution Axe</th> \n",
       "        <th id=\"T_ac63cedc_190a_11e8_bd40_8c85908350c0level1_row0\" class=\"row_heading level1 row0\" >34</th> \n",
       "        <td id=\"T_ac63cedc_190a_11e8_bd40_8c85908350c0row0_col0\" class=\"data row0 col0\" >9</td> \n",
       "        <td id=\"T_ac63cedc_190a_11e8_bd40_8c85908350c0row0_col1\" class=\"data row0 col1\" >$4.14</td> \n",
       "        <td id=\"T_ac63cedc_190a_11e8_bd40_8c85908350c0row0_col2\" class=\"data row0 col2\" >$37.26</td> \n",
       "    </tr>    <tr> \n",
       "        <th id=\"T_ac63cedc_190a_11e8_bd40_8c85908350c0level0_row1\" class=\"row_heading level0 row1\" >Spectral Diamond Doomblade</th> \n",
       "        <th id=\"T_ac63cedc_190a_11e8_bd40_8c85908350c0level1_row1\" class=\"row_heading level1 row1\" >115</th> \n",
       "        <td id=\"T_ac63cedc_190a_11e8_bd40_8c85908350c0row1_col0\" class=\"data row1 col0\" >7</td> \n",
       "        <td id=\"T_ac63cedc_190a_11e8_bd40_8c85908350c0row1_col1\" class=\"data row1 col1\" >$4.25</td> \n",
       "        <td id=\"T_ac63cedc_190a_11e8_bd40_8c85908350c0row1_col2\" class=\"data row1 col2\" >$29.75</td> \n",
       "    </tr>    <tr> \n",
       "        <th id=\"T_ac63cedc_190a_11e8_bd40_8c85908350c0level0_row2\" class=\"row_heading level0 row2\" >Orenmir</th> \n",
       "        <th id=\"T_ac63cedc_190a_11e8_bd40_8c85908350c0level1_row2\" class=\"row_heading level1 row2\" >32</th> \n",
       "        <td id=\"T_ac63cedc_190a_11e8_bd40_8c85908350c0row2_col0\" class=\"data row2 col0\" >6</td> \n",
       "        <td id=\"T_ac63cedc_190a_11e8_bd40_8c85908350c0row2_col1\" class=\"data row2 col1\" >$4.95</td> \n",
       "        <td id=\"T_ac63cedc_190a_11e8_bd40_8c85908350c0row2_col2\" class=\"data row2 col2\" >$29.70</td> \n",
       "    </tr>    <tr> \n",
       "        <th id=\"T_ac63cedc_190a_11e8_bd40_8c85908350c0level0_row3\" class=\"row_heading level0 row3\" >Singed Scalpel</th> \n",
       "        <th id=\"T_ac63cedc_190a_11e8_bd40_8c85908350c0level1_row3\" class=\"row_heading level1 row3\" >103</th> \n",
       "        <td id=\"T_ac63cedc_190a_11e8_bd40_8c85908350c0row3_col0\" class=\"data row3 col0\" >6</td> \n",
       "        <td id=\"T_ac63cedc_190a_11e8_bd40_8c85908350c0row3_col1\" class=\"data row3 col1\" >$4.87</td> \n",
       "        <td id=\"T_ac63cedc_190a_11e8_bd40_8c85908350c0row3_col2\" class=\"data row3 col2\" >$29.22</td> \n",
       "    </tr>    <tr> \n",
       "        <th id=\"T_ac63cedc_190a_11e8_bd40_8c85908350c0level0_row4\" class=\"row_heading level0 row4\" >Splitter, Foe Of Subtlety</th> \n",
       "        <th id=\"T_ac63cedc_190a_11e8_bd40_8c85908350c0level1_row4\" class=\"row_heading level1 row4\" >107</th> \n",
       "        <td id=\"T_ac63cedc_190a_11e8_bd40_8c85908350c0row4_col0\" class=\"data row4 col0\" >8</td> \n",
       "        <td id=\"T_ac63cedc_190a_11e8_bd40_8c85908350c0row4_col1\" class=\"data row4 col1\" >$3.61</td> \n",
       "        <td id=\"T_ac63cedc_190a_11e8_bd40_8c85908350c0row4_col2\" class=\"data row4 col2\" >$28.88</td> \n",
       "    </tr></tbody> \n",
       "</table> "
      ],
      "text/plain": [
       "<pandas.io.formats.style.Styler at 0x108864c50>"
      ]
     },
     "execution_count": 124,
     "metadata": {},
     "output_type": "execute_result"
    }
   ],
   "source": [
    "#Most Profitable\n",
    "\n",
    "profit_items_final = prefinal_df.sort_values('Total Purchase Value', ascending=False).head()\n",
    "profit_items_final.style.format({\"Item Price\": \"${:.2f}\", \"Total Purchase Value\": \"${:.2f}\"})"
   ]
  },
  {
   "cell_type": "code",
   "execution_count": null,
   "metadata": {
    "collapsed": true
   },
   "outputs": [],
   "source": []
  }
 ],
 "metadata": {
  "kernelspec": {
   "display_name": "Python 3",
   "language": "python",
   "name": "python3"
  },
  "language_info": {
   "codemirror_mode": {
    "name": "ipython",
    "version": 3
   },
   "file_extension": ".py",
   "mimetype": "text/x-python",
   "name": "python",
   "nbconvert_exporter": "python",
   "pygments_lexer": "ipython3",
   "version": "3.6.3"
  }
 },
 "nbformat": 4,
 "nbformat_minor": 2
}
