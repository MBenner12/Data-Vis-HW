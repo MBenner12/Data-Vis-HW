{
 "cells": [
  {
   "cell_type": "code",
   "execution_count": 29,
   "metadata": {
    "collapsed": true
   },
   "outputs": [],
   "source": [
    "from flask import Flask, render_template, redirect, jsonify\n",
    "import sqlalchemy\n",
    "from sqlalchemy.ext.automap import automap_base\n",
    "from sqlalchemy.orm import Session\n",
    "from sqlalchemy import create_engine\n",
    "from sqlalchemy import func\n",
    "import pandas as pd\n",
    "import numpy as np\n",
    "import datetime"
   ]
  },
  {
   "cell_type": "code",
   "execution_count": 30,
   "metadata": {
    "collapsed": true
   },
   "outputs": [],
   "source": [
    "app = Flask(__name__)\n",
    "engine = create_engine(\"sqlite:///hawaii.sqlite\")\n",
    "Base = automap_base()\n",
    "Base.prepare(engine, reflect=True)"
   ]
  },
  {
   "cell_type": "code",
   "execution_count": 31,
   "metadata": {
    "collapsed": true
   },
   "outputs": [],
   "source": [
    "Measurements = Base.classes.measurements\n",
    "Stations = Base.classes.stations\n",
    "session = Session(engine)"
   ]
  },
  {
   "cell_type": "code",
   "execution_count": 32,
   "metadata": {},
   "outputs": [],
   "source": [
    "@app.route(\"/\")\n",
    "def home():\n",
    "    print(\"Server received request for 'Home' page.\")\n",
    "    return \"Welcome to the Surfs Up Weather API!\""
   ]
  },
  {
   "cell_type": "code",
   "execution_count": 33,
   "metadata": {},
   "outputs": [],
   "source": [
    "@app.route(\"/api/v1.0/precipitation\")\n",
    "def precipitation():\n",
    "    results = session.query(Measurements.date, Measurements.prcp).filter(Measurements.date>=\"08-23-2017\").all()\n",
    "    year_prcp = list(np.ravel(results))\n",
    "    \"\"\"year_prcp = []\n",
    "    for result in results:\n",
    "        row{}\n",
    "        row[Measurements.date] = row[Measurements.prcp]\n",
    "        year_prcp.append(row)\"\"\"\n",
    "    return jsonify(year_prcp) "
   ]
  },
  {
   "cell_type": "code",
   "execution_count": 34,
   "metadata": {},
   "outputs": [],
   "source": [
    "@app.route(\"/api/v1.0/stations\")\n",
    "def stations():\n",
    "    results = session.query(Stations.station).all()\n",
    "\n",
    "    all_stations = list(np.ravel(results))\n",
    "\n",
    "    return jsonify(all_stations)"
   ]
  },
  {
   "cell_type": "code",
   "execution_count": 35,
   "metadata": {
    "collapsed": true
   },
   "outputs": [],
   "source": [
    "@app.route(\"/api/v1.0/tobs\")\n",
    "def temperature():\n",
    "    year_tobs = []\n",
    "    results = session.query(Measurements.tobs).filter(Measurements.date >= \"08-23-2017\").all()\n",
    "\n",
    "    year_tobs = list(np.ravel(results))\n",
    "\n",
    "    return jsonify(year_tobs)"
   ]
  },
  {
   "cell_type": "code",
   "execution_count": 36,
   "metadata": {
    "collapsed": true
   },
   "outputs": [],
   "source": [
    "@app.route(\"/api/v1.0/<start>\")\n",
    "def start_trip_temp(start_date):\n",
    "    start_trip = []\n",
    "\n",
    "    results_min = session.query(func.min(Measurements.tobs)).filter(Measurements.date == start_date).all()\n",
    "    results_max = session.query(func.max(Measurements.tobs)).filter(Measurements.date == start_date).all()\n",
    "    results_avg = session.query(func.avg(Measurements.tobs)).filter(Measurements.date == start_date).all()\n",
    "\n",
    "    start_trip = list(np.ravel(results_min,results_max, results_avg))\n",
    "\n",
    "    return jsonify(start_trip)"
   ]
  },
  {
   "cell_type": "code",
   "execution_count": 37,
   "metadata": {
    "collapsed": true
   },
   "outputs": [],
   "source": [
    "def greater_start_date(start_date):\n",
    "\n",
    "    start_trip_date_temps = []\n",
    "\n",
    "    results_min = session.query(func.min(Measurements.tobs)).filter(Measurements.date >= start_date).all()\n",
    "    results_max = session.query(func.max(Measurements.tobs)).filter(Measurements.date >= start_date).all()\n",
    "    results_avg = session.query(func.avg(Measurements.tobs)).filter(Measurements.date >= start_date).all()\n",
    "\n",
    "    start_trip_date_temps = list(np.ravel(results_min,results_max, results_avg))\n",
    "\n",
    "    return jsonify(start_trip_date_temps)"
   ]
  },
  {
   "cell_type": "code",
   "execution_count": 39,
   "metadata": {},
   "outputs": [],
   "source": [
    "@app.route(\"/api/v1.0/<start>/<end>\")\n",
    "\n",
    "def start_end_trip(start_date, end_date):\n",
    "\n",
    "    start_end_trip_temps = []\n",
    "\n",
    "    results_min = session.query(func.min(Measurements.tobs)).filter(Measurements.date == start_date, Measurements.date == end_date).all()\n",
    "    results_max = session.query(func.max(Measurements.tobs)).filter(Measurements.date == start_date, Measurements.date == end_date).all()\n",
    "    results_avg = session.query(func.avg(Measurements.tobs)).filter(Measurements.date == start_date, Measurements.date == end_date).all()\n",
    "\n",
    "    start_end_trip_temps = list(np.ravel(results_min,results_max, results_avg))\n",
    "\n",
    "    return jsonify(start_end_trip_temps)"
   ]
  },
  {
   "cell_type": "code",
   "execution_count": 40,
   "metadata": {
    "collapsed": true
   },
   "outputs": [],
   "source": [
    "def start_end_trip(start_date, end_date):\n",
    "\n",
    "    round_trip_temps = []\n",
    "\n",
    "    results_min = session.query(func.min(Measurements.tobs)).filter(Measurements.date >= start_date, Measurements.date >= end_date).all()\n",
    "    results_max = session.query(func.max(Measurements.tobs)).filter(Measurements.date >= start_date, Measurements.date >= end_date).all()\n",
    "    results_avg = session.query(func.avg(Measurements.tobs)).filter(Measurements.date >= start_date, Measurements.date >= end_date).all()\n",
    "\n",
    "    round_trip_temps = list(np.ravel(results_min,results_max, results_avg))\n",
    "\n",
    "    return jsonify(round_trip_temps)"
   ]
  },
  {
   "cell_type": "code",
   "execution_count": null,
   "metadata": {
    "collapsed": true
   },
   "outputs": [],
   "source": [
    "if __name__ == '__main__':\n",
    "    app.run(debug=True)"
   ]
  }
 ],
 "metadata": {
  "kernelspec": {
   "display_name": "Python 3",
   "language": "python",
   "name": "python3"
  },
  "language_info": {
   "codemirror_mode": {
    "name": "ipython",
    "version": 3
   },
   "file_extension": ".py",
   "mimetype": "text/x-python",
   "name": "python",
   "nbconvert_exporter": "python",
   "pygments_lexer": "ipython3",
   "version": "3.6.3"
  }
 },
 "nbformat": 4,
 "nbformat_minor": 2
}
